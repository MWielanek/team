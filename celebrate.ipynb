{
  "nbformat": 4,
  "nbformat_minor": 0,
  "metadata": {
    "colab": {
      "provenance": [],

      "include_colab_link": true
    },
    "kernelspec": {
      "name": "python3",
      "display_name": "Python 3"
    },
    "language_info": {
      "name": "python"
    }
  },
  "cells": [
    {
      "cell_type": "markdown",
      "metadata": {
        "id": "view-in-github",
        "colab_type": "text"
      },
      "source": [

      ]
    },
    {
      "cell_type": "code",
      "execution_count": 6,
      "metadata": {
        "id": "SgZ2Zj-lWRhi"
      },
      "outputs": [],
      "source": [
        "def celebrate():\n",

        "  print(\"woooo!\")\n",
        "\n",
        "  if True:\n",

        "    celebrate()"
      ]
    }
  ]
}